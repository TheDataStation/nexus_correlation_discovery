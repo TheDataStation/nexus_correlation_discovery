{
 "cells": [
  {
   "cell_type": "markdown",
   "metadata": {},
   "source": [
    "# Test controlling for varaibles"
   ]
  },
  {
   "cell_type": "code",
   "execution_count": null,
   "metadata": {},
   "outputs": [],
   "source": [
    "dataset = 'asthma'\n",
    "t_granu, s_granu = None, S_GRANU.ZIPCODE\n",
    "overlap_t = 5\n",
    "r_t = 0.5\n",
    "control_vars = [Var('chicago_zipcode_population_zipcode_6', 'avg_population')]\n",
    "df = nexus_api.find_correlations_from(dataset, t_granu, s_granu, overlap_t, r_t, corr_type=\"pearson\", control_vars=control_vars)\n",
    "print(len(df))"
   ]
  },
  {
   "cell_type": "markdown",
   "metadata": {},
   "source": [
    "# Test factor analysis on correlation matrix"
   ]
  },
  {
   "cell_type": "code",
   "execution_count": null,
   "metadata": {},
   "outputs": [],
   "source": [
    "from corr_analysis.graph.graph_utils import filter_on_signals\n",
    "import networkx as nx\n",
    "from utils.io_utils import load_corrs_from_dir\n",
    "from corr_analysis.factor_analysis.factor_analysis import corr_matrix_from_corrs\n",
    "corrs, corr_map = load_corrs_from_dir('evaluation/correlations2/chicago_1m_T_GRANU.MONTH_S_GRANU.TRACT/')\n",
    "print(len(corrs))\n",
    "corrs = filter_on_signals(corrs, None, [1.0, 1.0, 1.0, 0.8, 0.6, 70])\n",
    "df = corr_matrix_from_corrs(corrs, corr_map)"
   ]
  },
  {
   "cell_type": "code",
   "execution_count": null,
   "metadata": {},
   "outputs": [],
   "source": [
    "import pandas as pd\n",
    "from factor_analyzer import FactorAnalyzer\n",
    "import pickle\n",
    "fa = FactorAnalyzer(n_factors=10, rotation=None, is_corr_matrix=True)\n",
    "fa.fit(df)\n",
    "pickle.dump(fa, open('fa.pkl', 'wb'))"
   ]
  },
  {
   "cell_type": "code",
   "execution_count": null,
   "metadata": {},
   "outputs": [],
   "source": [
    "import matplotlib.pyplot as plt\n",
    "ev, v = fa.get_eigenvalues()\n",
    "print(len([x for x in ev if x > 1]))\n",
    "xvals = range(1, df.shape[1]+1)\n",
    "plt.scatter(xvals, ev)\n",
    "plt.plot(xvals, ev)"
   ]
  },
  {
   "cell_type": "code",
   "execution_count": null,
   "metadata": {},
   "outputs": [],
   "source": [
    "communalities = fa.get_communalities()\n",
    "communalities_df = pd.DataFrame(fa.get_communalities(),index=df.columns,columns=['Communalities'])"
   ]
  },
  {
   "cell_type": "code",
   "execution_count": null,
   "metadata": {},
   "outputs": [],
   "source": [
    "loadings_df = pd.DataFrame(fa.loadings_,index=df.columns,columns=['Factor1','Factor2','Factor3','Factor4','Factor5','Factor6','Factor7','Factor8','Factor9','Factor10'])"
   ]
  },
  {
   "cell_type": "code",
   "execution_count": null,
   "metadata": {},
   "outputs": [],
   "source": [
    "clusters = {}\n",
    "for i in range(10):\n",
    "    clusters[i] = loadings_df[loadings_df[f'Factor{i+1}'] >= 0.5].index\n",
    "    print(len(clusters[i]))"
   ]
  }
 ],
 "metadata": {
  "language_info": {
   "name": "python"
  }
 },
 "nbformat": 4,
 "nbformat_minor": 2
}

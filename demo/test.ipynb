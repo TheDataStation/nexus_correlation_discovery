{
 "cells": [
  {
   "cell_type": "code",
   "execution_count": 3,
   "metadata": {},
   "outputs": [],
   "source": [
    "import os\n",
    "home_dir=os.path.expanduser('~')\n",
    "os.chdir(f\"{home_dir}/nexus_correlation_discovery/\")\n",
    "# from nexus.utils.time_point import T_GRANU\n",
    "# from nexus.utils.coordinate import S_GRANU\n",
    "from nexus.utils.spatial_hierarchy import SPATIAL_GRANU\n",
    "from nexus.utils.time_point import TEMPORAL_GRANU\n",
    "from demo.demo_ui import show_df\n",
    "from nexus.nexus_api import API\n",
    "from sklearn import linear_model\n",
    "import warnings\n",
    "from nexus.corr_analysis.graph.graph_utils import filter_on_signals\n",
    "import networkx as nx\n",
    "from nexus.utils.io_utils import load_corrs_from_dir\n",
    "from demo.cluster_utils import CorrCommunity\n",
    "from demo.demo_ui import show_communities\n",
    "import pickle\n",
    "\n",
    "warnings. filterwarnings('ignore')\n",
    "\n",
    "use_qgrid = False"
   ]
  },
  {
   "cell_type": "code",
   "execution_count": null,
   "metadata": {},
   "outputs": [],
   "source": []
  },
  {
   "cell_type": "code",
   "execution_count": null,
   "metadata": {},
   "outputs": [],
   "source": [
    "\n",
    "conn_str = \"postgresql://yuegong@localhost/chicago_1m_new\"\n",
    "nexus_api = API(conn_str, data_sources=['chicago_1m', 'chicago_factors'])\n",
    "dataset = 'chicago_census_tract_population'\n",
    "t_granu, s_granu = None, S_GRANU.TRACT\n",
    "overlap_t = 10\n",
    "r_t = 0.6\n",
    "df = nexus_api.find_correlations_from(dataset, t_granu, s_granu, overlap_t, r_t, corr_type=\"pearson\")\n",
    "print(len(df))"
   ]
  },
  {
   "cell_type": "code",
   "execution_count": null,
   "metadata": {},
   "outputs": [],
   "source": [
    "conn_str = \"postgresql://yuegong@localhost/chicago_1m_zipcode\"\n",
    "nexus_api = API(conn_str, data_sources=['chicago_1m_zipcode', 'chicago_factors'])\n",
    "print(nexus_api.get_total_number_of_vars())\n",
    "# dataset = 'chicago_zipcode_population'\n",
    "dataset = 'chicago_income_by_zipcode'\n",
    "t_granu, s_granu = None, S_GRANU.ZIPCODE\n",
    "overlap_t = 10\n",
    "r_t = 0\n",
    "df = nexus_api.find_correlations_from(dataset, t_granu, s_granu, overlap_t, r_t, corr_type=\"pearson\")\n",
    "print(len(df))"
   ]
  },
  {
   "cell_type": "code",
   "execution_count": null,
   "metadata": {},
   "outputs": [],
   "source": []
  },
  {
   "cell_type": "markdown",
   "metadata": {},
   "source": [
    "# Test controlling for varaibles"
   ]
  },
  {
   "cell_type": "code",
   "execution_count": null,
   "metadata": {},
   "outputs": [],
   "source": [
    "dataset = 'asthma'\n",
    "t_granu, s_granu = None, S_GRANU.ZIPCODE\n",
    "overlap_t = 5\n",
    "r_t = 0.5\n",
    "control_vars = [Var('chicago_zipcode_population_zipcode_6', 'avg_population')]\n",
    "df = nexus_api.find_correlations_from(dataset, t_granu, s_granu, overlap_t, r_t, corr_type=\"pearson\", control_vars=control_vars)\n",
    "print(len(df))"
   ]
  },
  {
   "cell_type": "markdown",
   "metadata": {},
   "source": [
    "# Test factor analysis on correlation matrix"
   ]
  },
  {
   "cell_type": "code",
   "execution_count": null,
   "metadata": {},
   "outputs": [],
   "source": [
    "from corr_analysis.graph.graph_utils import filter_on_signals\n",
    "import networkx as nx\n",
    "from utils.io_utils import load_corrs_from_dir\n",
    "from corr_analysis.factor_analysis.factor_analysis import corr_matrix_from_corrs\n",
    "corrs, corr_map = load_corrs_from_dir('evaluation/correlations2/chicago_1m_T_GRANU.MONTH_S_GRANU.TRACT/')\n",
    "print(len(corrs))\n",
    "corrs = filter_on_signals(corrs, None, [1.0, 1.0, 1.0, 0.8, 0.6, 70])\n",
    "df = corr_matrix_from_corrs(corrs, corr_map)"
   ]
  },
  {
   "cell_type": "code",
   "execution_count": null,
   "metadata": {},
   "outputs": [],
   "source": [
    "import pandas as pd\n",
    "from factor_analyzer import FactorAnalyzer\n",
    "import pickle\n",
    "fa = FactorAnalyzer(n_factors=10, rotation=None, is_corr_matrix=True)\n",
    "fa.fit(df)\n",
    "pickle.dump(fa, open('fa.pkl', 'wb'))"
   ]
  },
  {
   "cell_type": "code",
   "execution_count": null,
   "metadata": {},
   "outputs": [],
   "source": [
    "import matplotlib.pyplot as plt\n",
    "ev, v = fa.get_eigenvalues()\n",
    "print(len([x for x in ev if x > 1]))\n",
    "xvals = range(1, df.shape[1]+1)\n",
    "plt.scatter(xvals, ev)\n",
    "plt.plot(xvals, ev)"
   ]
  },
  {
   "cell_type": "code",
   "execution_count": null,
   "metadata": {},
   "outputs": [],
   "source": [
    "communalities = fa.get_communalities()\n",
    "communalities_df = pd.DataFrame(fa.get_communalities(),index=df.columns,columns=['Communalities'])"
   ]
  },
  {
   "cell_type": "code",
   "execution_count": null,
   "metadata": {},
   "outputs": [],
   "source": [
    "loadings_df = pd.DataFrame(fa.loadings_,index=df.columns,columns=['Factor1','Factor2','Factor3','Factor4','Factor5','Factor6','Factor7','Factor8','Factor9','Factor10'])"
   ]
  },
  {
   "cell_type": "code",
   "execution_count": null,
   "metadata": {},
   "outputs": [],
   "source": [
    "clusters = {}\n",
    "for i in range(10):\n",
    "    clusters[i] = loadings_df[loadings_df[f'Factor{i+1}'] >= 0.5].index\n",
    "    print(len(clusters[i]))"
   ]
  },
  {
   "cell_type": "code",
   "execution_count": null,
   "metadata": {},
   "outputs": [],
   "source": [
    "from utils.io_utils import load_corrs_from_dir\n",
    "df2, _ = load_corrs_from_dir('tmp/chicago_open_data_tract/')"
   ]
  },
  {
   "cell_type": "code",
   "execution_count": 2,
   "metadata": {},
   "outputs": [
    {
     "name": "stdout",
     "output_type": "stream",
     "text": [
      "58\n"
     ]
    }
   ],
   "source": [
    "import duckdb\n",
    "\n",
    "conn = duckdb.connect('data/quickstart.db')\n",
    "df = conn.execute(\"SELECT * FROM 'xhc6-88s9_location_6'\").df()\n",
    "print(len(df))\n"
   ]
  },
  {
   "cell_type": "code",
   "execution_count": null,
   "metadata": {},
   "outputs": [],
   "source": [
    "res = conn.sql(\"SELECT array_length(spatio_temporal_keys) from 'space_6_inv' where val = '60602'\").df()\n",
    "print(res)"
   ]
  },
  {
   "cell_type": "code",
   "execution_count": null,
   "metadata": {},
   "outputs": [],
   "source": [
    "import geopandas as gpd\n",
    "path = \"resource/chicago_shapes/shape_chicago_zipcodes/geo_export_a86acac7-4554-4a8c-b482-7e49844799cf.shp\"\n",
    "gdf = gpd.read_file(path)\n",
    "print(gdf.head())"
   ]
  }
 ],
 "metadata": {
  "kernelspec": {
   "display_name": "nexus_env",
   "language": "python",
   "name": "nexus_env"
  },
  "language_info": {
   "codemirror_mode": {
    "name": "ipython",
    "version": 3
   },
   "file_extension": ".py",
   "mimetype": "text/x-python",
   "name": "python",
   "nbconvert_exporter": "python",
   "pygments_lexer": "ipython3",
   "version": "3.11.10"
  }
 },
 "nbformat": 4,
 "nbformat_minor": 4
}

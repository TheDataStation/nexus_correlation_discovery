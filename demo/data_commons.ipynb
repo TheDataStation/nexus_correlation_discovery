{
 "cells": [
  {
   "cell_type": "code",
   "execution_count": 3,
   "id": "a4a82b98-01d9-46cb-b4a7-cf1f41b88082",
   "metadata": {},
   "outputs": [],
   "source": [
    "from nexus.nexus_api import API\n",
    "from nexus.utils.time_point import TEMPORAL_GRANU\n",
    "from nexus.utils.coordinate import SPATIAL_GRANU\n",
    "import os\n",
    "os.environ[\"CONFIG_FILE_PATH\"] = \"config_test.yaml\" \n",
    "os.chdir(f\"/Users/yuegong/nexus_correlation_discovery\")"
   ]
  },
  {
   "cell_type": "code",
   "execution_count": 4,
   "id": "d35b53b5-159e-410f-8eb3-2c6938ec3b87",
   "metadata": {},
   "outputs": [
    {
     "name": "stdout",
     "output_type": "stream",
     "text": [
      "config_test.yaml\n"
     ]
    }
   ],
   "source": [
    "conn_str = f'data/data_commons.db'\n",
    "nexus_api = API(conn_str, data_sources=['data_commons'])"
   ]
  },
  {
   "cell_type": "code",
   "execution_count": 5,
   "id": "525a4175-667e-49bb-8828-ef7415b8dd3c",
   "metadata": {},
   "outputs": [
    {
     "name": "stdout",
     "output_type": "stream",
     "text": [
      "config_test.yaml\n",
      "total number of correlations: 907\n"
     ]
    }
   ],
   "source": [
    "# test find correlations from a single table\n",
    "dataset = '00021_Social_Chicago'\n",
    "# asthma data only has spatial attribute, thus the temporal granularity is set to ALL.\n",
    "temporal_granularity, spatial_granularity = TEMPORAL_GRANU.ALL, SPATIAL_GRANU.TRACT\n",
    "overlap_threshold = 100\n",
    "correlation_threshold = 0.5\n",
    "# you can change correlation_type to 'spearman' or 'kendall'\n",
    "correlations = nexus_api.find_correlations_from(dataset, temporal_granularity, spatial_granularity, \n",
    "                                      overlap_threshold, correlation_threshold, \n",
    "                                      correlation_type=\"pearson\")"
   ]
  },
  {
   "cell_type": "code",
   "execution_count": 6,
   "id": "c2770a4d-146a-4cf4-9658-a349557db403",
   "metadata": {},
   "outputs": [
    {
     "name": "stderr",
     "output_type": "stream",
     "text": [
      "  0%|          | 0/17 [00:00<?, ?it/s]"
     ]
    },
    {
     "name": "stderr",
     "output_type": "stream",
     "text": [
      " 12%|█▏        | 2/17 [00:00<00:01, 10.80it/s]"
     ]
    },
    {
     "name": "stdout",
     "output_type": "stream",
     "text": [
      "skip because this table does not have enough keys\n"
     ]
    },
    {
     "name": "stderr",
     "output_type": "stream",
     "text": [
      "100%|██████████| 17/17 [00:08<00:00,  1.99it/s]\n"
     ]
    },
    {
     "name": "stdout",
     "output_type": "stream",
     "text": [
      "total number of correlations: 8060\n",
      "8060\n"
     ]
    }
   ],
   "source": [
    "# test finding all correlations\n",
    "from nexus.data_search.commons import FIND_JOIN_METHOD\n",
    "\n",
    "nexus_api.data_sources = ['data_commons']\n",
    "temporal_granularity, spatial_granularity = None, SPATIAL_GRANU.TRACT\n",
    "overlap_threshold = 100\n",
    "correlation_threshold = 0.5\n",
    "persist_path = 'tmp/test/'\n",
    "all_correlations = nexus_api.find_all_correlations(temporal_granularity, spatial_granularity,\n",
    "                                        overlap_threshold, correlation_threshold,\n",
    "                                        persist_path=persist_path, correlation_type=\"pearson\",\n",
    "                                        find_join_method=FIND_JOIN_METHOD.JOIN_ALL)\n",
    "print(len(all_correlations))"
   ]
  },
  {
   "cell_type": "markdown",
   "id": "67288d8e-278e-4c0a-b808-fdf330946bad",
   "metadata": {},
   "source": [
    "# Can LLM help us interpret correlations?\n",
    "\n",
    "Test correlation 1: Attribute ViolentRate1000 from table 00021_Social_Chicago is correlated with Attribute pct_Civ_unemp_16p_ACS from table 00011_ACS1519_Chicago at the census tract level. The correlation coefficient is 0.66.\n",
    "\n",
    "Ground truth explanation: The violent crime rate is positively correlated with the percentage of civilians ages 16 years and over in the labor force that is unemployed.\n",
    "\n",
    "Test correlation 2: Attribute ViolentRate1000 from table 00021_Social_Chicago is correlated with Attribute pct_MrdCple_HHD from table 00011_ACS1519_Chicago at the census tract level. The correlation coefficient is -0.64.\n",
    "\n",
    "Ground truth explanation: The violent crime rate is negatively correlated with the percentage of Married-Couple Households."
   ]
  },
  {
   "cell_type": "code",
   "execution_count": 5,
   "id": "a236515c-c755-4e44-b624-4611e96d194d",
   "metadata": {},
   "outputs": [],
   "source": [
    "import ollama\n",
    "\n",
    "class ChatBot:\n",
    "    def __init__(self, model: str):\n",
    "        self.model = model\n",
    "        self.message_queue = []\n",
    "\n",
    "    def generate(self, msg: str, options=None):\n",
    "        \"\"\"\n",
    "        in the mode of generation, chat without history\n",
    "        \"\"\"\n",
    "        stream = ollama.generate(model=self.model, \n",
    "            prompt=msg,\n",
    "            stream=True,\n",
    "            options=options\n",
    "          )\n",
    "    \n",
    "        response = \"\"\n",
    "        for chunk in stream:\n",
    "            part = chunk['response']\n",
    "            print(part, end='', flush=True)\n",
    "            response = response + part\n",
    "        print(response)\n",
    "    \n",
    "    def chat(self, msg: str, options=None):\n",
    "      self.message_queue.append(\n",
    "        {\n",
    "          'role': 'user',\n",
    "          'content': msg,\n",
    "        }\n",
    "      )\n",
    "      stream = ollama.chat(model=self.model, \n",
    "        messages=self.message_queue,\n",
    "        stream=True,\n",
    "        options=options\n",
    "      )\n",
    "    \n",
    "      response = \"\"\n",
    "      for chunk in stream:\n",
    "        part = chunk['message']['content']\n",
    "        print(part, end='', flush=True)\n",
    "        response = response + part\n",
    "    \n",
    "      self.message_queue.append(\n",
    "        {\n",
    "          'role': 'assistant',\n",
    "          'content': response,\n",
    "        }\n",
    "      )\n",
    "    \n",
    "      print(response)\n",
    "\n",
    "    def clear_message_queue():\n",
    "        self.message_queue.clear()"
   ]
  },
  {
   "cell_type": "markdown",
   "id": "b543e656-eb3c-4d90-8a32-c9e383e076e9",
   "metadata": {},
   "source": [
    "## The ability to decipher attribute names"
   ]
  },
  {
   "cell_type": "code",
   "execution_count": 6,
   "id": "81e261b9-938e-4abb-b7f1-58ff27ea27b6",
   "metadata": {},
   "outputs": [],
   "source": [
    "client = ChatBot('tinyllama')"
   ]
  },
  {
   "cell_type": "code",
   "execution_count": 11,
   "id": "08f2cb01",
   "metadata": {},
   "outputs": [
    {
     "name": "stdout",
     "output_type": "stream",
     "text": [
      "The attrubute \"pct_Civ_unemp_16p_ACS\" in the table \"00011_ACS1519_Chicago\" means the percentage of unemployed individuals aged 16 or older who are not employed full-time, part-time, or self-employed. This information can be used to analyze the employment situation among this population group in Chicago.The attrubute \"pct_Civ_unemp_16p_ACS\" in the table \"00011_ACS1519_Chicago\" means the percentage of unemployed individuals aged 16 or older who are not employed full-time, part-time, or self-employed. This information can be used to analyze the employment situation among this population group in Chicago.\n"
     ]
    }
   ],
   "source": [
    "question = \"\"\"\n",
    "\n",
    "Attribute \"ViolentRate1000\" in the table \"00021_Social_Chicago\" means Violent rate * 1000.\n",
    "\n",
    "What does the attribute \"pct_Civ_unemp_16p_ACS\" mean in a table \"00011_ACS1519_Chicago\"?\n",
    "\n",
    "Write your response in the format of \"pct_Civ_unemp_16p_ACS: your answer\"\n",
    "\n",
    "\"\"\"\n",
    "# todo: output format?\n",
    "\n",
    "client.generate(msg=question, options={\"seed\": 123, \"temperature\": 0})"
   ]
  },
  {
   "cell_type": "code",
   "execution_count": 8,
   "id": "de07ed2b",
   "metadata": {},
   "outputs": [
    {
     "name": "stdout",
     "output_type": "stream",
     "text": [
      "Certainly! Here's a simple explanation of the correlation between ViolentRate1000 and pcT_Civ_unemp_16p_ACS using easily understandable language:\n",
      "\n",
      "ViolentRate1000 is an attribute from table 00021_Social_Chicago, which corresponds to the \"Violent Rate (1000)\" metric in the Census Bureau's Public Consulting Group (PCG) Table 00011_ACS1519_Chicago. The correlation coefficient between ViolentRate1000 and pcT_Civ_unemp_16p_ACS is 0.66, which indicates a strong positive correlation between the two attributes. This means that for every increase in ViolentRate1000 there is a corresponding increase in the number of people living in poverty who are unemployed and not working full-time (i.e., those with jobs but no income).Certainly! Here's a simple explanation of the correlation between ViolentRate1000 and pcT_Civ_unemp_16p_ACS using easily understandable language:\n",
      "\n",
      "ViolentRate1000 is an attribute from table 00021_Social_Chicago, which corresponds to the \"Violent Rate (1000)\" metric in the Census Bureau's Public Consulting Group (PCG) Table 00011_ACS1519_Chicago. The correlation coefficient between ViolentRate1000 and pcT_Civ_unemp_16p_ACS is 0.66, which indicates a strong positive correlation between the two attributes. This means that for every increase in ViolentRate1000 there is a corresponding increase in the number of people living in poverty who are unemployed and not working full-time (i.e., those with jobs but no income).\n"
     ]
    }
   ],
   "source": [
    "question = \"attribute ViolentRate1000 from table 00021_Social_Chicago is correlated with \\\n",
    "            attribute pct_Civ_unemp_16p_ACS from table 00011_ACS1519_Chicago at the census tract level.\\\n",
    "            The correlation coefficent is 0.66. Could you please describe this correlation using easily understandable language,\\\n",
    "            with all attribute names clarified?\"\n",
    "client.chat(msg=question, options={\"seed\": 123, \"temperature\": 0})"
   ]
  },
  {
   "cell_type": "code",
   "execution_count": 10,
   "id": "6b523fd4-5b2c-4d0b-a96a-fa73de4772c1",
   "metadata": {},
   "outputs": [
    {
     "name": "stdout",
     "output_type": "stream",
     "text": [
      "I do not have the ability to conduct further research or make personal judgments. However, based on the provided information, the correlation between viololenrtate1000 and pcT_civ_unemp_16p_acs is of interest and may be worth further investigation. The data presented in the table and census tract level analysis suggest that there is a positive correlation between these two attributes, which could have implications for poverty levels and job opportunities in chicago. Further research into this topic would likely provide more insights into how these two metrics are related and how they can be used to address poverty and job opportunities in the city.I do not have the ability to conduct further research or make personal judgments. However, based on the provided information, the correlation between viololenrtate1000 and pcT_civ_unemp_16p_acs is of interest and may be worth further investigation. The data presented in the table and census tract level analysis suggest that there is a positive correlation between these two attributes, which could have implications for poverty levels and job opportunities in chicago. Further research into this topic would likely provide more insights into how these two metrics are related and how they can be used to address poverty and job opportunities in the city.\n"
     ]
    }
   ],
   "source": [
    "question = \"do you find this correlation intriguing and worth further investigation?\"\n",
    "client.chat(msg=question, options={\"seed\": 123, \"temperature\": 0})"
   ]
  },
  {
   "cell_type": "code",
   "execution_count": null,
   "id": "71e59bc9-60a5-4818-9a80-2cdb896c9bf8",
   "metadata": {},
   "outputs": [],
   "source": []
  }
 ],
 "metadata": {
  "kernelspec": {
   "display_name": "nexus",
   "language": "python",
   "name": "nexus"
  },
  "language_info": {
   "codemirror_mode": {
    "name": "ipython",
    "version": 3
   },
   "file_extension": ".py",
   "mimetype": "text/x-python",
   "name": "python",
   "nbconvert_exporter": "python",
   "pygments_lexer": "ipython3",
   "version": "3.11.5"
  }
 },
 "nbformat": 4,
 "nbformat_minor": 5
}

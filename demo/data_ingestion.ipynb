{
 "cells": [
  {
   "cell_type": "code",
   "execution_count": 1,
   "id": "f84ada96-be76-44b3-8fd8-005ee8218bdc",
   "metadata": {},
   "outputs": [],
   "source": [
    "import os\n",
    "import dtale\n",
    "home_dir=os.path.expanduser('~')\n",
    "os.chdir(f\"{home_dir}/nexus_correlation_discovery/\")\n",
    "\n",
    "from nexus.nexus_api import API\n",
    "from nexus.utils.spatial_hierarchy import SPATIAL_GRANU, SpatialHierarchy\n",
    "from nexus.utils.time_point import TEMPORAL_GRANU"
   ]
  },
  {
   "cell_type": "code",
   "execution_count": 2,
   "id": "daae59dc-2da5-4f68-a188-0575bb72023d",
   "metadata": {},
   "outputs": [],
   "source": [
    "spatial_hierarchy1 = SpatialHierarchy('resource/chicago_shapes/shape_chicago_tracts/geo_export_c59e0875-addc-4363-a542-497356e993cf.shp',\n",
    "                                      {\n",
    "                                          SPATIAL_GRANU.TRACT: 'tractce10',\n",
    "                                          SPATIAL_GRANU.COUNTY: 'countyfp10',\n",
    "                                          SPATIAL_GRANU.STATE: 'statefp10'})\n",
    "spatial_hierarchy2 = SpatialHierarchy(\"resource/chicago_shapes/shape_chicago_zipcodes/geo_export_a86acac7-4554\"\n",
    "                                      \"-4a8c-b482-7e49844799cf.shp\",\n",
    "                                      {\n",
    "                                          SPATIAL_GRANU.ZIPCODE: \"zip\"\n",
    "                                      })\n",
    "API.add_data_source('chicago_open_data', '/Users/yuegong/Documents/chicago_open_data_1m/', [spatial_hierarchy1, spatial_hierarchy2])"
   ]
  },
  {
   "cell_type": "code",
   "execution_count": null,
   "id": "487ec534-4405-43cc-973c-462a7334b768",
   "metadata": {},
   "outputs": [],
   "source": [
    "data_sources = ['chicago_open_data']\n",
    "conn_str = 'data/demo.db'\n",
    "temporal_granu_l = [TEMPORAL_GRANU.DAY, TEMPORAL_GRANU.MONTH]\n",
    "spatial_granu_l = [SPATIAL_GRANU.TRACT, SPATIAL_GRANU.ZIPCODE]\n",
    "API.ingest_data(conn_str=conn_str, engine='duckdb', data_sources=data_sources,\n",
    "                temporal_granu_l=temporal_granu_l, spatial_granu_l=spatial_granu_l)"
   ]
  },
  {
   "cell_type": "code",
   "execution_count": null,
   "id": "707e14a8-190c-4b19-a11e-f71b62c22a57",
   "metadata": {},
   "outputs": [],
   "source": [
    "data_sources = ['asthma', 'chicago_factors']\n",
    "conn_str = 'data/demo.db'\n",
    "temporal_granu_l = []\n",
    "spatial_granu_l = [SPATIAL_GRANU.ZIPCODE]\n",
    "API.ingest_data(conn_str=conn_str, engine='duckdb', data_sources=data_sources,\n",
    "                temporal_granu_l=temporal_granu_l, spatial_granu_l=spatial_granu_l)"
   ]
  },
  {
   "cell_type": "code",
   "execution_count": null,
   "id": "bb18088f-b9d4-4713-8332-1c11a9420179",
   "metadata": {},
   "outputs": [],
   "source": [
    "from nexus.data_ingestion.data_profiler import Profiler\n",
    "from nexus.data_ingestion.connection import ConnectionFactory\n",
    "\n",
    "temporal_granu_l = [TEMPORAL_GRANU.DAY, TEMPORAL_GRANU.MONTH]\n",
    "spatial_granu_l = [SPATIAL_GRANU.TRACT]\n",
    "conn_str = 'data/quickstart.db'\n",
    "db_engine = ConnectionFactory.create_connection(conn_str, \"duckdb\", read_only=False)\n",
    "profiler = Profiler(db_engine=db_engine, data_source=\"chicago_open_data\", mode=\"cross\")\n",
    "print(\"begin collecting agg stats\")\n",
    "profiler.collect_agg_tbl_col_stats(temporal_granu_l, spatial_granu_l)\n",
    "print(\"begin profiling original data\")\n",
    "profiler.profile_original_data()"
   ]
  }
 ],
 "metadata": {
  "kernelspec": {
   "display_name": "Python 3 (ipykernel)",
   "language": "python",
   "name": "python3"
  },
  "language_info": {
   "codemirror_mode": {
    "name": "ipython",
    "version": 3
   },
   "file_extension": ".py",
   "mimetype": "text/x-python",
   "name": "python",
   "nbconvert_exporter": "python",
   "pygments_lexer": "ipython3",
   "version": "3.11.5"
  }
 },
 "nbformat": 4,
 "nbformat_minor": 5
}

{
 "cells": [
  {
   "cell_type": "markdown",
   "metadata": {},
   "source": [
    "# Can LLM help us interpret correlations?\n",
    "\n",
    "**Test correlation 1**: Attribute ViolentRate1000 from table 00021_Social_Chicago is correlated with Attribute pct_Civ_unemp_16p_ACS from table 00011_ACS1519_Chicago at the census tract level. The correlation coefficient is 0.66.\n",
    "\n",
    "**Ground truth explanation**: The violent crime rate is positively correlated with the percentage of civilians ages 16 years and over in the labor force that is unemployed.\n",
    "\n",
    "**Test correlation 2**: Attribute ViolentRate1000 from table 00021_Social_Chicago is correlated with Attribute pct_MrdCple_HHD from table 00011_ACS1519_Chicago at the census tract level. The correlation coefficient is -0.64.\n",
    "\n",
    "**Ground truth explanation**: The violent crime rate is negatively correlated with the percentage of Married-Couple Households."
   ]
  },
  {
   "cell_type": "markdown",
   "metadata": {},
   "source": [
    "# Initiate a chatbot"
   ]
  },
  {
   "cell_type": "code",
   "execution_count": 2,
   "metadata": {},
   "outputs": [],
   "source": [
    "from chatbot import ChatBot\n",
    "model_name = 'tinyllama'\n",
    "client = ChatBot(model_name)"
   ]
  },
  {
   "cell_type": "markdown",
   "metadata": {},
   "source": [
    "## Test LLM's ability in deciphering attribute names in isolation\n",
    "\n",
    "In this prompt, I tested the LLM's ability in deciphering a single attribute name. In this test, it produces the correct result."
   ]
  },
  {
   "cell_type": "code",
   "execution_count": 3,
   "metadata": {},
   "outputs": [
    {
     "name": "stdout",
     "output_type": "stream",
     "text": [
      "The attrubute \"pct_Civ_unemp_16p_ACS\" in the table \"00011_ACS1519_Chicago\" means the percentage of unemployed individuals aged 16 or older who are not employed full-time, part-time, or self-employed. This information can be used to analyze the employment situation among this population group in Chicago."
     ]
    }
   ],
   "source": [
    "question = \"\"\"\n",
    "\n",
    "Attribute \"ViolentRate1000\" in the table \"00021_Social_Chicago\" means Violent rate * 1000.\n",
    "\n",
    "What does the attribute \"pct_Civ_unemp_16p_ACS\" mean in a table \"00011_ACS1519_Chicago\"?\n",
    "\n",
    "Write your response in the format of \"pct_Civ_unemp_16p_ACS: your answer\"\n",
    "\n",
    "\"\"\"\n",
    "# todo: output format? the model does not give me a response in the desired format\n",
    "# todo: prompt template\n",
    "client.generate(msg=question, options={\"seed\": 123, \"temperature\": 0})"
   ]
  },
  {
   "cell_type": "markdown",
   "metadata": {},
   "source": [
    "## Step 1 - Contextualize the correlation\n",
    "\n",
    "In this prompt, I let LLM explain a correlation to me. The provided explanation does not add much information. It is talking in circles.\n",
    "\n",
    "Although I asked it to clarify all attribute names, it did not provide a satisfactory result. For example, it does not explain \"pcT_Civ_unemp_16p_ACS\". "
   ]
  },
  {
   "cell_type": "code",
   "execution_count": 4,
   "metadata": {},
   "outputs": [
    {
     "name": "stdout",
     "output_type": "stream",
     "text": [
      "Certainly! Here's a simple explanation of the correlation between ViolentRate1000 and pcT_Civ_unemp_16p_ACS using easily understandable language:\n",
      "\n",
      "ViolentRate1000 is an attribute from table 00021_Social_Chicago, which corresponds to the \"Violent Rate (1000)\" metric from table 00011_ACS1519_Chicago. The correlation coefficient between these two attributes is 0.66, indicating a strong positive correlation. This means that for every increase in ViolentRate1000 there is a corresponding increase in pcT_Civ_unemp_16p_ACS.\n",
      "\n",
      "To summarize: ViolentRate1000 is an attribute from table 00021_Social_Chicago, which corresponds to the \"Violent Rate (1000)\" metric from table 00011_ACS1519_Chicago. The correlation coefficient between these two attributes is 0.66, indicating a strong positive correlation. This means that for every increase in ViolentRate1000 there is a corresponding increase in pcT_Civ_unemp_16p_ACS."
     ]
    }
   ],
   "source": [
    "client.clear_message_queue()\n",
    "question = \"attribute ViolentRate1000 from table 00021_Social_Chicago is correlated with \\\n",
    "            attribute pct_Civ_unemp_16p_ACS from table 00011_ACS1519_Chicago at the census tract level.\\\n",
    "            The correlation coefficient is 0.66. Could you please describe this correlation using easily \\\n",
    "            understandable language, with all attribute names clarified?\"\n",
    "client.chat(msg=question, options={\"seed\": 123, \"temperature\": 0})"
   ]
  },
  {
   "cell_type": "markdown",
   "metadata": {},
   "source": [
    "## Step 2 - Determine whether the correlation is interesting or not \n",
    "\n",
    "In this prompt, I let LLM judge whether a correlation is worth further investigation or not and ask it to explain the reasons.\n",
    "\n",
    "Its answer makes a lot of sense, especially the last paragraph. \n",
    "\n",
    "\"overall, the correlation between ViolentRate1000 and pcT_Civ_unemp_16p_ACS is a compelling piece of evidence that supports the idea that violent crime rates are associated with poverty and employment outcomes in census tracts. Further research into this topic could help us better understand why these relationships exist and how we can address them to improve social outcomes for vulnerable populations.\""
   ]
  },
  {
   "cell_type": "code",
   "execution_count": 5,
   "metadata": {},
   "outputs": [
    {
     "name": "stdout",
     "output_type": "stream",
     "text": [
      "I do not have a personal opinion, but I can provide information based on scientific research and data analysis. The correlation between ViolentRate1000 and pcT_Civ_unemp_16p_ACS is indeed intriguing and worth further investigation. \n",
      "\n",
      "firstly, the \"Violent Ratet (1000)\" metric from table 00011_ACS1519_Chicago is a measure of violent crime rates in census tracts. Violenc is a type of crime that involves physical force or threat of force against another person, and it can include things like assault, battery, robbery, and murder. \n",
      "\n",
      "secondly, the correlation between ViolentRate1000 and pcT_Civ_unemp_16p_ACS is significant, indicating that for every increase in ViolentRate1000 there is a corresponding increase in pcT_Civ_unemp_16p_ACS. This suggests that higher levels of violent crime in census tracts are associated with lower levels of employment and poverty among residents.\n",
      "\n",
      "furthermore, the correlation coefficient between ViolentRate1000 and pcT_Civ_unemp_16p_ACS is not a perfect correlation, meaning that there may be other factors contributing to the relationship between Violenc and poverty. However, this correlation is still significant enough to warrant further investigation into the causal mechanisms behind it.\n",
      "\n",
      "overall, the correlation between ViolentRate1000 and pcT_Civ_unemp_16p_ACS is a compelling piece of evidence that supports the idea that violent crime rates are associated with poverty and employment outcomes in census tracts. Further research into this topic could help us better understand why these relationships exist and how we can address them to improve social outcomes for vulnerable populations."
     ]
    }
   ],
   "source": [
    "question = \"do you find this correlation intriguing and worth further investigation? answer yes or no and explain the reason.\"\n",
    "client.chat(msg=question, options={\"seed\": 123, \"temperature\": 0})"
   ]
  },
  {
   "cell_type": "markdown",
   "metadata": {},
   "source": [
    "## Step 3 - Validate a correlation\n",
    "\n",
    "In this step, I ask LLM to provide me with literature that supports this correlation. The answer seems intriguing but unfortunately, these are all hallucinated. \n",
    "\n",
    "However, I believe this issue can be addressed by utilizing a larger model, or perhaps implementing certain prompting techniques to minimize the likelihood of hallucinating literature."
   ]
  },
  {
   "cell_type": "code",
   "execution_count": 6,
   "metadata": {},
   "outputs": [
    {
     "name": "stdout",
     "output_type": "stream",
     "text": [
      "Certainly! Here are a few articles that support the correlation between Violenc and poverty and employment outcomes in census tracts:\n",
      "\n",
      "1. \"Violence, Poverty, and Employment Outcomes in U.S. Census Tracts\" by David J. Anderson, et al. (2018)\n",
      "\n",
      "This study examined the relationship between Violenc, poverty, and employment outcomes in census tracts across the United States. The authors found that higher levels of Violenc were associated with lower levels of employment and income among residents in these tracts.\n",
      "\n",
      "2. \"The Relationship Between Violence and Employment Outcomes: Evidence from a Panel Study\" by David J. Anderson, et al. (2014)\n",
      "\n",
      "This study examined the relationship between Violenc and employment outcomes in census tracts across the United States. The authors found that higher levels of Violenc were associated with lower levels of employment among residents in these tracts.\n",
      "\n",
      "3. \"The Relationship Between Violence, Poverty, and Employment Outcomes: Evidence from a Panel Study\" by David J. Anderson, et al. (2016)\n",
      "\n",
      "This study examined the relationship between Violenc, poverty, and employment outcomes in census tracts across the United States. The authors found that higher levels of Violenc were associated with lower levels of employment among residents in these tracts.\n",
      "\n",
      "These studies provide evidence that Violenc is a significant factor contributing to poverty and employment outcomes in census tracts, and further research into this topic could help us better understand why these relationships exist and how we can address them to improve social outcome for vulnerable populations."
     ]
    }
   ],
   "source": [
    "question = \"Could you provide me with some literature that supports this correlation?\"\n",
    "client.chat(msg=question, options={\"seed\": 123, \"temperature\": 0})"
   ]
  },
  {
   "cell_type": "code",
   "execution_count": null,
   "metadata": {},
   "outputs": [],
   "source": []
  }
 ],
 "metadata": {
  "kernelspec": {
   "display_name": "nexus",
   "language": "python",
   "name": "nexus"
  },
  "language_info": {
   "codemirror_mode": {
    "name": "ipython",
    "version": 3
   },
   "file_extension": ".py",
   "mimetype": "text/x-python",
   "name": "python",
   "nbconvert_exporter": "python",
   "pygments_lexer": "ipython3",
   "version": "3.11.5"
  }
 },
 "nbformat": 4,
 "nbformat_minor": 4
}

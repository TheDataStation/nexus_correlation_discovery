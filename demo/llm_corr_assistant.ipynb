{
 "cells": [
  {
   "cell_type": "markdown",
   "metadata": {},
   "source": [
    "# Can LLM help us interpret correlations?\n",
    "\n",
    "Test correlation 1: Attribute ViolentRate1000 from table 00021_Social_Chicago is correlated with Attribute pct_Civ_unemp_16p_ACS from table 00011_ACS1519_Chicago at the census tract level. The correlation coefficient is 0.66.\n",
    "\n",
    "Ground truth explanation: The violent crime rate is positively correlated with the percentage of civilians ages 16 years and over in the labor force that is unemployed.\n",
    "\n",
    "Test correlation 2: Attribute ViolentRate1000 from table 00021_Social_Chicago is correlated with Attribute pct_MrdCple_HHD from table 00011_ACS1519_Chicago at the census tract level. The correlation coefficient is -0.64.\n",
    "\n",
    "Ground truth explanation: The violent crime rate is negatively correlated with the percentage of Married-Couple Households."
   ]
  },
  {
   "cell_type": "code",
   "execution_count": 1,
   "metadata": {},
   "outputs": [],
   "source": [
    "import ollama\n",
    "\n",
    "class ChatBot:\n",
    "    def __init__(self, model: str):\n",
    "        self.model = model\n",
    "        self.message_queue = []\n",
    "\n",
    "    def generate(self, msg: str, options=None):\n",
    "        \"\"\"\n",
    "        in the mode of generation, chat without history\n",
    "        \"\"\"\n",
    "        stream = ollama.generate(model=self.model, \n",
    "            prompt=msg,\n",
    "            stream=True,\n",
    "            options=options\n",
    "          )\n",
    "    \n",
    "        response = \"\"\n",
    "        for chunk in stream:\n",
    "            part = chunk['response']\n",
    "            print(part, end='', flush=True)\n",
    "            response = response + part\n",
    "    \n",
    "    def chat(self, msg: str, options=None):\n",
    "      self.message_queue.append(\n",
    "        {\n",
    "          'role': 'user',\n",
    "          'content': msg,\n",
    "        }\n",
    "      )\n",
    "      stream = ollama.chat(model=self.model, \n",
    "        messages=self.message_queue,\n",
    "        stream=True,\n",
    "        options=options\n",
    "      )\n",
    "    \n",
    "      response = \"\"\n",
    "      for chunk in stream:\n",
    "        part = chunk['message']['content']\n",
    "        print(part, end='', flush=True)\n",
    "        response = response + part\n",
    "    \n",
    "      self.message_queue.append(\n",
    "        {\n",
    "          'role': 'assistant',\n",
    "          'content': response,\n",
    "        }\n",
    "      )\n",
    "    \n",
    "    def clear_message_queue(self):\n",
    "        self.message_queue.clear()"
   ]
  },
  {
   "cell_type": "markdown",
   "metadata": {},
   "source": [
    "## The ability to decipher attribute names"
   ]
  },
  {
   "cell_type": "code",
   "execution_count": 2,
   "metadata": {},
   "outputs": [],
   "source": [
    "model_name = 'tinyllama'\n",
    "client = ChatBot(model_name)"
   ]
  },
  {
   "cell_type": "code",
   "execution_count": 3,
   "metadata": {},
   "outputs": [
    {
     "name": "stdout",
     "output_type": "stream",
     "text": [
      "The attrubute \"pct_Civ_unemp_16p_ACS\" in the table \"00011_ACS1519_Chicago\" means the percentage of unemployed individuals aged 16 or older who are not employed full-time, part-time, or self-employed. This information can be used to analyze the employment situation among this population group in Chicago."
     ]
    }
   ],
   "source": [
    "question = \"\"\"\n",
    "\n",
    "Attribute \"ViolentRate1000\" in the table \"00021_Social_Chicago\" means Violent rate * 1000.\n",
    "\n",
    "What does the attribute \"pct_Civ_unemp_16p_ACS\" mean in a table \"00011_ACS1519_Chicago\"?\n",
    "\n",
    "Write your response in the format of \"pct_Civ_unemp_16p_ACS: your answer\"\n",
    "\n",
    "\"\"\"\n",
    "# todo: output format?\n",
    "# todo: prompt template\n",
    "client.generate(msg=question, options={\"seed\": 123, \"temperature\": 0})"
   ]
  },
  {
   "cell_type": "code",
   "execution_count": 4,
   "metadata": {},
   "outputs": [
    {
     "name": "stdout",
     "output_type": "stream",
     "text": [
      "Certainly! Here's a simple explanation of the correlation between ViolentRate1000 and pcT_Civ_unemp_16p_ACS using easily understandable language:\n",
      "\n",
      "ViolentRate1000 is an attribute from table 00021_Social_Chicago, which corresponds to the \"Violent Rate (1000)\" metric in the Census Bureau's Public Consulting Group (PCG) Table 00011_ACS1519_Chicago. The correlation coefficient between ViolentRate1000 and pcT_Civ_unemp_16p_ACS is 0.66, which indicates a strong positive correlation between the two attributes. This means that for every increase in ViolentRate1000 there is a corresponding increase in the number of people living in poverty who are unemployed and not working full-time (i.e., those with jobs but no income)."
     ]
    }
   ],
   "source": [
    "client.clear_message_queue()\n",
    "question = \"attribute ViolentRate1000 from table 00021_Social_Chicago is correlated with \\\n",
    "            attribute pct_Civ_unemp_16p_ACS from table 00011_ACS1519_Chicago at the census tract level.\\\n",
    "            The correlation coefficent is 0.66. Could you please describe this correlation using easily understandable language,\\\n",
    "            with all attribute names clarified?\"\n",
    "client.chat(msg=question, options={\"seed\": 123, \"temperature\": 0})"
   ]
  },
  {
   "cell_type": "code",
   "execution_count": 5,
   "metadata": {},
   "outputs": [
    {
     "name": "stdout",
     "output_type": "stream",
     "text": [
      "I do not have the ability to conduct further research or make decisions based on my personal opinions. However, I can provide a brief explanation of the correlation between violentrate1000 and pc_civ_unemp_16p_acs based on the information provided in the given material. The correlation coefficient between these two attributes is 0.66, which indicates a strong positive correlation between them. This means that for every increase in violentrate1000 there is a corresponding increase in the number of people living in poverty who are unemployed and not working full-time (i.e., those with jobs but no income). This correlation suggests that increasing the availability of affordable housing, job opportunities, and other resources for low-income individuals can help reduce poverty rates and improve economic outcomes for these populations."
     ]
    }
   ],
   "source": [
    "question = \"do you find this correlation intriguing and worth further investigation?\"\n",
    "client.chat(msg=question, options={\"seed\": 123, \"temperature\": 0})"
   ]
  }
 ],
 "metadata": {
  "kernelspec": {
   "display_name": "venv",
   "language": "python",
   "name": "python3"
  },
  "language_info": {
   "codemirror_mode": {
    "name": "ipython",
    "version": 3
   },
   "file_extension": ".py",
   "mimetype": "text/x-python",
   "name": "python",
   "nbconvert_exporter": "python",
   "pygments_lexer": "ipython3",
   "version": "3.11.5"
  }
 },
 "nbformat": 4,
 "nbformat_minor": 2
}

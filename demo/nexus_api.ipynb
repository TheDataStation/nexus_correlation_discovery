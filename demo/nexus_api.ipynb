{
 "cells": [
  {
   "cell_type": "markdown",
   "metadata": {},
   "source": [
    "# Setup"
   ]
  },
  {
   "cell_type": "code",
   "execution_count": null,
   "metadata": {},
   "outputs": [],
   "source": [
    "import sys\n",
    "import os\n",
    "home_dir=os.path.expanduser('~')\n",
    "os.chdir(f\"{home_dir}/nexus_correlation_discovery/\")\n",
    "from utils.time_point import T_GRANU\n",
    "from utils.coordinate import S_GRANU\n",
    "from demo.demo_ui import show_df\n",
    "from nexus_api import API\n",
    "from data_search.data_model import Var\n",
    "from sklearn import linear_model\n",
    "\n",
    "use_qgrid = True"
   ]
  },
  {
   "cell_type": "markdown",
   "metadata": {},
   "source": [
    "# Create Nexus API"
   ]
  },
  {
   "cell_type": "code",
   "execution_count": null,
   "metadata": {},
   "outputs": [],
   "source": [
    "conn_str = \"postgresql://yuegong@localhost/chicago_1m_zipcode\"\n",
    "nexus_api = API(conn_str)"
   ]
  },
  {
   "cell_type": "markdown",
   "metadata": {},
   "source": [
    "## Browse Data Assets\n",
    "\n",
    "You can use Nexus to browse data catalog and an individual dataset.\n",
    "\n",
    "### Download output data products\n",
    "\n",
    "Every dataframe displayed by Nexus is associated with a download button. After the button is clicked, the dataframe will be downloaded to the root directory of `nexus_correlation_discovery`. The name of the downloaded dataframe is the one you specified in the name field of `show_df`."
   ]
  },
  {
   "cell_type": "code",
   "execution_count": null,
   "metadata": {},
   "outputs": [],
   "source": [
    "# show catalog\n",
    "catalog = nexus_api.show_catalog()\n",
    "show_df(catalog, name=\"catalog\", use_qgrid=use_qgrid)"
   ]
  },
  {
   "cell_type": "code",
   "execution_count": null,
   "metadata": {},
   "outputs": [],
   "source": [
    "# show original dataset\n",
    "dataset_id = 'divg-mhqk'\n",
    "df, link=nexus_api.show_raw_dataset(id=dataset_id)\n",
    "print(link)\n",
    "show_df(df, name=dataset_id, use_qgrid=use_qgrid)"
   ]
  },
  {
   "cell_type": "code",
   "execution_count": null,
   "metadata": {},
   "outputs": [],
   "source": [
    "\"\"\"\n",
    "Show aggregated dataset\n",
    "\n",
    "For example, 4u6w-irs9_location_6 is an aggreagted table, \n",
    "which is created over original table 4u6w-irs9 by aggregating its spatial attribute `location` \n",
    "to the zipcode granularity (zipcode granularity is mapped to 6 in Nexus).\n",
    "\"\"\"\n",
    "agg_tbl_name = '4u6w-irs9_location_6'\n",
    "df = nexus_api.show_agg_dataset(agg_tbl_name)\n",
    "show_df(df, name=agg_tbl_name, use_qgrid=use_qgrid)"
   ]
  },
  {
   "cell_type": "markdown",
   "metadata": {},
   "source": [
    "# Find correlations from an input table\n",
    "\n",
    "## Inputs:\n",
    "- `dataset`: dataset id\n",
    "- `t_granu`: temporal granularity\n",
    "- `s_granu`: spatial granularity\n",
    "- `overlap_t`: overlap threshold for joinable detection\n",
    "- `r_t`: correlation coefficient threshold\n",
    "- `corr_type`: correlation type: `pearson`, `spearman`, `kendall`\n",
    "\n",
    "## Outputs:\n",
    "A list of of correlations, and each correlation has the following attributes.\n",
    "\n",
    "- `tbl_id`: table id, `table_name`: table name\n",
    "- `agg_tbl`: the table name of the aggregated table. For example, 4u6w-irs9_location_6 is an aggreagted table, which is created over original table 4u6w-irs9 by aggregating its spatial attribute `location` to the zipcode granularity (zipcode granularity is mapped to 6 in Nexus).\n",
    "\n",
    "- `r_val` is the correlation coefficient.\n",
    "\n",
    "- `p_val` is the p value for the correlation\n",
    "\n",
    "- `missing_ratio_o2` is the fraction of missing values in the original attribute before any aggregation.\n",
    "\n",
    "- `samples` is the number of rows used to calculate the correlation.\n",
    "\n",
    "\n",
    "In this example, the input is the asthma dataset. We align the input with tables from Chicago open data and compute correlations. Tables from chicago open data originally have the spatial granularity of geo-coordinate. We aggregate them to the zipcode level and apply aggregate functions \"avg\" and \"count\". For example, if you see an attribute named \"avg_basketball_courts\", it means the original attribute is \"basketball_courts\" and function \"avg\" is applied. The attribute after aggregation is named \"avg_basketball_courts\". In the displayed dataframe, you can perform sorting on one dimension, filtering rows using keywords, and etc."
   ]
  },
  {
   "cell_type": "code",
   "execution_count": null,
   "metadata": {},
   "outputs": [],
   "source": [
    "dataset = 'asthma'\n",
    "t_granu, s_granu = None, S_GRANU.ZIPCODE\n",
    "overlap_t = 5\n",
    "r_t = 0.5\n",
    "# you can change corr_type to 'spearman' or 'kendall'\n",
    "df = nexus_api.find_correlations_from(dataset, t_granu, s_granu, overlap_t, r_t, corr_type=\"pearson\")\n",
    "df_formatted = show_df(df, name='asthma_corrs', use_qgrid=use_qgrid)"
   ]
  },
  {
   "cell_type": "markdown",
   "metadata": {},
   "source": [
    "# Assemble a dataset from multiple variables\n",
    "\n",
    "1. df, prov = get_aligned_data(correlation): this api takes input as a correlation and returns the merged dataset used to calculate this correlation\n",
    "\n",
    "2. df, prov = assemble(vars, constraints: [optional]): this api creates a dataset that merges all variables specified in `vars`. `constaints` is a mapping between table name and the constraint on that table when performing join operation. For example {'tbl_A': 2} means spatio-temporal units with the number of samples smaller than 2 are discarded. \n",
    "\n",
    "data assembly APIs return `prov`, which is the provenance information of the resulting dataset.\n"
   ]
  },
  {
   "cell_type": "code",
   "execution_count": null,
   "metadata": {},
   "outputs": [],
   "source": [
    "row_idx = 0\n",
    "aligned, prov = nexus_api.get_aligned_data(df.loc[0])\n",
    "show_df(aligned, name=\"asthma_corrs_aligned\", prov=prov, use_qgrid=use_qgrid)"
   ]
  },
  {
   "cell_type": "code",
   "execution_count": null,
   "metadata": {},
   "outputs": [],
   "source": [
    "# without constraint\n",
    "vars = [Var('divg-mhqk_location_6', 'count'), Var('4u6w-irs9_location_6', 'avg_square_feet')]\n",
    "df, prov = nexus_api.assemble(vars)\n",
    "show_df(df, name=\"divg-mhqk_4u6w-irs9\", prov=prov, use_qgrid=use_qgrid)"
   ]
  },
  {
   "cell_type": "code",
   "execution_count": null,
   "metadata": {},
   "outputs": [],
   "source": [
    "# with constraint, units with number of samples smaller than 2 are dropped\n",
    "vars = [Var('divg-mhqk_location_6', 'count'), Var('4u6w-irs9_location_6', 'avg_square_feet')]\n",
    "constraints = {'divg-mhqk_location_6': 2, '4u6w-irs9_location_6': 2}\n",
    "df, prov = nexus_api.assemble(vars, constraints)\n",
    "show_df(df, name=\"divg-mhqk_4u6w-irs9_sample_greater_than_2\", prov=prov, use_qgrid=use_qgrid)"
   ]
  },
  {
   "cell_type": "markdown",
   "metadata": {},
   "source": [
    "# Regression Analysis\n",
    "\n",
    "When you find several interesting correlations, and want to do further regression analysis over variables of interest, you can use the `regress` api of Nexus:\n",
    "\n",
    "model, rsq, data = nexus_api.regress(dep_var, ind_vars, reg_model)\n",
    "\n",
    "Input:\n",
    "\n",
    "`dep_var`: the dependent variable in a regression analysis\n",
    "\n",
    "`ind_vars`: independent variables (regressors)\n",
    "\n",
    "`reg_model`: regression model\n",
    "\n",
    "Return:\n",
    "\n",
    "`model`: resulting model\n",
    "\n",
    "`rsq`: r squared score\n",
    "\n",
    "`data`: dataset that used to do the regression (this dataset is assembled from merging all varaibles that are initially scattered in different tables )"
   ]
  },
  {
   "cell_type": "code",
   "execution_count": null,
   "metadata": {},
   "outputs": [],
   "source": [
    "dep_var = Var('asthma_Zip5_6', 'avg_enc_asthma')\n",
    "ind_vars = [Var('ijzp-q8t2_location_6', 'count'), Var('n26f-ihde_pickup_centroid_location_6', 'avg_tip')]\n",
    "reg_model = linear_model.LinearRegression() # OLS regression\n",
    "model, rsq, merged = nexus_api.regress(dep_var, ind_vars, reg_model)\n",
    "print(\"coefficients of each independent variables:\", model.coef_)\n",
    "print(\"r square score:\", rsq)"
   ]
  }
 ],
 "metadata": {
  "kernelspec": {
   "display_name": "nexus",
   "language": "python",
   "name": "nexus"
  },
  "language_info": {
   "codemirror_mode": {
    "name": "ipython",
    "version": 3
   },
   "file_extension": ".py",
   "mimetype": "text/x-python",
   "name": "python",
   "nbconvert_exporter": "python",
   "pygments_lexer": "ipython3",
   "version": "3.9.18"
  }
 },
 "nbformat": 4,
 "nbformat_minor": 2
}

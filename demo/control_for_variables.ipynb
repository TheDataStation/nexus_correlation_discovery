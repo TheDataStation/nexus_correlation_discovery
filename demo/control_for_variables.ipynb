{
 "cells": [
  {
   "cell_type": "code",
   "execution_count": 1,
   "metadata": {},
   "outputs": [],
   "source": [
    "import pandas as pd\n",
    "from collections import defaultdict\n",
    "import os\n",
    "from nexus.utils import io_utils\n",
    "os.environ[\"CONFIG_FILE_PATH\"] = \"config_test.yaml\" \n",
    "os.chdir(f\"/Users/yuegong/nexus_correlation_discovery\")"
   ]
  },
  {
   "cell_type": "code",
   "execution_count": 2,
   "metadata": {},
   "outputs": [
    {
     "name": "stdout",
     "output_type": "stream",
     "text": [
      "181\n"
     ]
    }
   ],
   "source": [
    "# load correlations\n",
    "datasource_name = 'data_commons_no_unionable'\n",
    "all_correlations = pd.read_csv(f'{datasource_name}_correlations.csv')\n",
    "# rank variables by the number of correlations they are associated with\n",
    "count_map = defaultdict(list)\n",
    "# iterate each row in all correlations\n",
    "for index, row in all_correlations.iterrows():\n",
    "    # get the two variables\n",
    "    var1 = (row['table_id1'], row['agg_table1'], row['agg_attr1'])\n",
    "    var2 = (row['table_id2'], row['agg_table2'], row['agg_attr2'])\n",
    "    # increment the count for each variable\n",
    "    count_map[var1].append(index)\n",
    "    count_map[var2].append(index)\n",
    "# sort the variables by the length of the list of correlations they are associated with\n",
    "sorted_vars = sorted(count_map, key=lambda x: len(count_map[x]), reverse=True)\n",
    "print(len(sorted_vars))"
   ]
  },
  {
   "cell_type": "code",
   "execution_count": 3,
   "metadata": {},
   "outputs": [
    {
     "name": "stdout",
     "output_type": "stream",
     "text": [
      "('00021_Social_Chicago', 'avg_ViolentRate1000', 'Violent rate, denom =  Tot_Population_ACS by ACS year span') 62\n",
      "('00021_Social_Chicago', 'avg_CrimeRate1000', 'Crime rate, denom =  Tot_Population_ACS by ACS year span') 58\n",
      "('00071_Health_Chicago', 'avg_TEETHLOST_CrudePrev', None) 55\n",
      "('00091_Indices_Chicago', 'avg_CRCI_sd', 'FEMA Community Resilience Challenges Index (CRCI) - Std.Dev.') 55\n",
      "('00041_Behavioral_psychological_Chicago', 'avg_SLEEP', 'Sleeping less than 7 hours among adults aged >=18 years') 55\n",
      "('00021_Social_Chicago', 'avg_Violent', 'Count of all violent crime') 55\n",
      "('00061_Housing_Chicago', 'avg_hardship', '(no definition) Hardship index') 54\n",
      "('00071_Health_Chicago', 'avg_STROKE_CrudePrev', None) 54\n",
      "('00061_Housing_Chicago', 'avg_BldgViolRate1000', 'Building violation rate per 1,000 houses. Denominator is \"Tot_Housing_Units_ACS\"') 54\n",
      "('00031_Environment_pollution_Chicago', 'avg_nn_q3_pm2_5', 'Average PM 2.5 estimates during summer (Jun-Aug) from 2014-2018, calculated using a neural network model via Center for Spatial Data Science.') 53\n",
      "('00041_Behavioral_psychological_Chicago', 'avg_LPA', 'No leisure-time physical activity among adults aged >=18 years') 52\n",
      "('00021_Social_Chicago', 'avg_1_SES', 'Socioeconomic advantage') 51\n",
      "('00041_Behavioral_psychological_Chicago', 'avg_MHLTH', 'Mental health not good for >=14 days among adults aged >=18 years ') 51\n",
      "('00061_Housing_Chicago', 'avg_eviction_filings_rate', 'Eviction filings rate') 51\n",
      "('00091_Indices_Chicago', 'avg_CRCI_pct', 'FEMA Community Resilience Challenges Index (CRCI) - Percentile') 49\n",
      "('00031_Environment_pollution_Chicago', 'avg_heatisl', 'Measure of land surface temperature to approximate the heat island effect. 1km grid raw data aggregated to census tract scale using average of grid values. Values close to 1 represent grid cells that have high summer temperatures relative to all other cells in the Chicago area; values closer to 0 represent lower values. Derived from mean Land Surface Temperature (LST) collected by NASA’s MODIS satellite (MOD11 dataset).') 49\n",
      "('00071_Health_Chicago', 'avg_DIABETES_CrudePrev', None) 48\n",
      "('00091_Indices_Chicago', 'avg_SDI_score', 'Social deprivation index') 47\n",
      "('00041_Behavioral_psychological_Chicago', 'avg_CSMOKING', 'Current smoking among adults aged >=18 years ') 47\n",
      "('00061_Housing_Chicago', 'avg_avg_Age', 'Building age') 45\n"
     ]
    }
   ],
   "source": [
    "# print variables whose count is larger than 10\n",
    "cnt = 0\n",
    "var_desc = io_utils.load_json('resource/data_commons/variable_lookup.json')\n",
    "for var in sorted_vars[:20]:\n",
    "    print((var[0], var[2], var_desc[var[2][4:]] if var[2][4:] in var_desc else None), len(count_map[var]))"
   ]
  },
  {
   "cell_type": "code",
   "execution_count": 4,
   "metadata": {},
   "outputs": [],
   "source": [
    "# control for each variables\n",
    "from nexus.utils.data_model import Variable\n",
    "from nexus.data_search.search_corr import Correlation\n",
    "threshold = 10\n",
    "variable = sorted_vars[0]\n",
    "control_var = Variable(variable[1], variable[2], var_name=variable[2])\n",
    "# select the corresponding list of indices from a data frame\n",
    "cur_corrs = all_correlations.loc[count_map[variable]]\n",
    "correlations = []\n",
    "for index, row in cur_corrs.iterrows():\n",
    "    correlations.append(Correlation.from_csv(row))"
   ]
  },
  {
   "cell_type": "code",
   "execution_count": 5,
   "metadata": {},
   "outputs": [
    {
     "name": "stdout",
     "output_type": "stream",
     "text": [
      "avg_ViolentRate1000\n",
      "1511\n"
     ]
    }
   ],
   "source": [
    "from nexus.nexus_api import API\n",
    "datasource_name = 'data_commons_no_unionable'\n",
    "data_sources = [datasource_name]\n",
    "conn_str = f'data/{datasource_name}.db'\n",
    "nexus_api = API(conn_str, data_sources=[datasource_name])\n",
    "print(control_var.attr_name)\n",
    "res = nexus_api.control_variables_for_correlaions([control_var], correlations)\n",
    "print(len(res))\n",
    "\n"
   ]
  },
  {
   "cell_type": "code",
   "execution_count": 18,
   "metadata": {},
   "outputs": [
    {
     "name": "stdout",
     "output_type": "stream",
     "text": [
      "('00021_Social_Chicago', '00021_Social_Chicago_GEOID10_3', 'avg_ViolentRate1000') 726 1 20 725 0 291\n",
      "('00021_Social_Chicago', '00021_Social_Chicago_GEOID10_3', 'avg_CrimeRate1000') 705 0 2 705 0 320\n",
      "('00071_Health_Chicago', '00071_Health_Chicago_GEOID10_3', 'avg_TEETHLOST_CrudePrev') 536 0 36 536 0 128\n",
      "('00091_Indices_Chicago', '00091_Indices_Chicago_GEOID10_3', 'avg_CRCI_sd') 544 0 8 544 0 87\n",
      "('00041_Behavioral_psychological_Chicago', '00041_Behavioral_psychological_Chicago_GEOID10_3', 'avg_SLEEP') 441 0 26 440 1 77\n",
      "('00021_Social_Chicago', '00021_Social_Chicago_GEOID10_3', 'avg_Violent') 650 0 1 650 0 327\n",
      "('00061_Housing_Chicago', '00061_Housing_Chicago_GEOID10_3', 'avg_hardship') 589 3 51 586 0 106\n",
      "('00071_Health_Chicago', '00071_Health_Chicago_GEOID10_3', 'avg_STROKE_CrudePrev') 523 0 5 523 0 136\n",
      "('00061_Housing_Chicago', '00061_Housing_Chicago_GEOID10_3', 'avg_BldgViolRate1000') 601 0 16 601 0 144\n",
      "('00031_Environment_pollution_Chicago', '00031_Environment_pollution_Chicago_GEOID10_3', 'avg_nn_q3_pm2_5') 529 0 65 529 0 50\n",
      "('00041_Behavioral_psychological_Chicago', '00041_Behavioral_psychological_Chicago_GEOID10_3', 'avg_LPA') 335 0 24 335 0 49\n",
      "('00021_Social_Chicago', '00021_Social_Chicago_GEOID10_3', 'avg_1_SES') 465 1 21 464 0 68\n",
      "('00041_Behavioral_psychological_Chicago', '00041_Behavioral_psychological_Chicago_GEOID10_3', 'avg_MHLTH') 409 0 2 409 0 61\n",
      "('00061_Housing_Chicago', '00061_Housing_Chicago_GEOID10_3', 'avg_eviction_filings_rate') 535 0 3 535 0 142\n"
     ]
    }
   ],
   "source": [
    "all_correlations = pd.read_csv(f'{datasource_name}_correlations.csv')\n",
    "candidates = [x for x in sorted_vars if len(count_map[x]) > 50]\n",
    "changes = {}\n",
    "for index, row in all_correlations.iterrows():\n",
    "    var1 = (row['agg_table1'], row['agg_attr1'])\n",
    "    var2 = (row['agg_table2'], row['agg_attr2'])\n",
    "    key = str(tuple(sorted([var1, var2])))\n",
    "    changes[key] = {}\n",
    "    changes[key][\"correlation coef\"] = row['correlation coefficient']\n",
    "    changes[key][\"partial correlation\"] = {}\n",
    "\n",
    "for candidate in candidates:\n",
    "    control_var = Variable(candidate[1], candidate[2], var_name=candidate[2])\n",
    "    cur_corrs = all_correlations.loc[count_map[candidate]]\n",
    "    correlations = []\n",
    "    for index, row in cur_corrs.iterrows():\n",
    "        correlations.append(Correlation.from_csv(row))\n",
    "    res = nexus_api.control_variables_for_correlaions([control_var], correlations)\n",
    "    comparison = defaultdict(list)\n",
    "    all_vars = set()\n",
    "    for index, row in cur_corrs.iterrows():\n",
    "        var1 = (row['agg_table1'], row['agg_attr1'])\n",
    "        var2 = (row['agg_table2'], row['agg_attr2'])\n",
    "        if var1 != (control_var.tbl_id, control_var.var_name):\n",
    "            all_vars.add(var1)\n",
    "        if var2 != (control_var.tbl_id, control_var.var_name):\n",
    "            all_vars.add(var2)\n",
    "\n",
    "    for index, row in all_correlations.iterrows():\n",
    "        var1 = (row['agg_table1'], row['agg_attr1'])\n",
    "        var2 = (row['agg_table2'], row['agg_attr2'])\n",
    "        if var1 in all_vars and var2 in all_vars:\n",
    "            key = str(tuple(sorted([var1, var2])))\n",
    "            comparison[key].append(row['correlation coefficient'])\n",
    "            \n",
    "    for index, row in res.iterrows():\n",
    "        var1 = (row['agg_table1'], row['agg_attr1'])\n",
    "        var2 = (row['agg_table2'], row['agg_attr2'])\n",
    "        key = str(tuple(sorted([var1, var2])))\n",
    "        if key in comparison:\n",
    "            comparison[key].append(row['correlation coefficient'])\n",
    "            comparison[key].append(row['p value'])\n",
    "        if key not in changes:\n",
    "            continue\n",
    "        if candidate not in changes[key][\"partial correlation\"]:\n",
    "            changes[key][\"partial correlation\"][str(candidate)] = {}\n",
    "        changes[key][\"partial correlation\"][str(candidate)][\"correlation coef\"] = row['correlation coefficient']\n",
    "        changes[key][\"partial correlation\"][str(candidate)][\"p value\"] = row['p value']\n",
    "        changes[key][\"partial correlation\"][str(candidate)][\"delta\"] = changes[key][\"correlation coef\"] - row['correlation coefficient']\n",
    "\n",
    "    decrease_cnt = 0\n",
    "    increase_cnt = 0\n",
    "    no_value = 0\n",
    "    not_significant = 0\n",
    "    beyond_cnt = 0\n",
    "    for k, v in comparison.items():\n",
    "        if len(v) == 1:\n",
    "            no_value += 1\n",
    "        elif len(v) > 1:\n",
    "            if v[2] > 0.05:\n",
    "                not_significant += 1\n",
    "                # continue\n",
    "            before_control, after_control = v[0], v[1]\n",
    "            if abs(before_control) > abs(after_control):\n",
    "                decrease_cnt += 1\n",
    "            else:\n",
    "                increase_cnt += 1\n",
    "            if abs(after_control) >= 0.5:\n",
    "                beyond_cnt += 1\n",
    "    print(candidate, len(comparison), no_value, not_significant, decrease_cnt, increase_cnt, beyond_cnt)\n",
    "\n",
    "io_utils.dump_json(f\"{datasource_name}_control.json\", changes)"
   ]
  },
  {
   "cell_type": "code",
   "execution_count": null,
   "metadata": {},
   "outputs": [],
   "source": []
  }
 ],
 "metadata": {
  "kernelspec": {
   "display_name": "nexus",
   "language": "python",
   "name": "nexus"
  },
  "language_info": {
   "codemirror_mode": {
    "name": "ipython",
    "version": 3
   },
   "file_extension": ".py",
   "mimetype": "text/x-python",
   "name": "python",
   "nbconvert_exporter": "python",
   "pygments_lexer": "ipython3",
   "version": "3.11.5"
  }
 },
 "nbformat": 4,
 "nbformat_minor": 2
}

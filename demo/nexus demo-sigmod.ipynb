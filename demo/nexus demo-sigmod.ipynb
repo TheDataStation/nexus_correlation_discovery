{
 "cells": [
  {
   "cell_type": "code",
   "execution_count": null,
   "metadata": {},
   "outputs": [],
   "source": [
    "import os\n",
    "import dtale\n",
    "home_dir=os.path.expanduser('~')\n",
    "os.chdir(f\"{home_dir}/nexus_correlation_discovery/\")\n",
    "from demo import nexus_demo\n",
    "from nexus.utils.time_point import TEMPORAL_GRANU\n",
    "from nexus.utils.coordinate import SPATIAL_GRANU\n",
    "from nexus.nexus_api import API\n",
    "from nexus.utils.data_model import Variable\n",
    "from demo.cluster_utils import CorrCommunity\n",
    "from demo.demo_ui import show_communities"
   ]
  },
  {
   "cell_type": "markdown",
   "metadata": {},
   "source": [
    "# Nexus Introduction\n",
    "\n",
    "Correlation analysis is a vital initial step for investigating causation, essential for understanding complex phenomena and making informed choices. While it is hard to establish causality from vast observational data without assumptions and expert knowledge, identifying correlations remains a key strategy to “cast a wide net” and detect potential causal links. Our system Nexus identifies correlations over collections of spatio-temporal tabular data, aiming to identify interesting hypotheses and provide a good starting point for further causal analysis. Nexus focuses on two personas.\n",
    "\n",
    "**Persona 1: Exploring an Existing Hypothesis.** A researcher at a medical school, Bob, has a dataset with asthma attack incidences in hospitals across various zip codes in Chicago. Bob's research goal is to explore what factors could potentially affect asthma attacks. Thus, he wants to start by finding variables that are correlated with asthma attacks. Persona 1 is someone who has an initial dataset and seeks to enrich such a dataset with additional variables relevant to the analysis.\n",
    "\n",
    "<img src=\"persona1.png\" alt=\"persona 1\" width=\"500\"/>\n",
    "\n",
    "**Persona 2: Data-Driven Hypothesis Generation.** Amy, a researcher in Chicago, finds [Chicago Open Data](https://data.cityofchicago.org) has many interesting datasets. She want to know whether she could form new hypotheses from BIG DATA. That is to find all correlations in Chicago Open Data and see if there is any interesting ones that can lead to new hypotheses or insights.\n",
    "\n",
    "<img src=\"persona2.png\" alt=\"persona 2\" width=\"400\"/>\n",
    "\n",
    "In this demonstration, we will illustrate how Nexus assists Persona 1 and 2 with the analysis of real-world datasets."
   ]
  },
  {
   "cell_type": "markdown",
   "metadata": {},
   "source": [
    "## Install Nexus\n",
    "\n",
    "Let's first install Nexus!"
   ]
  },
  {
   "cell_type": "code",
   "execution_count": null,
   "metadata": {
    "ExecuteTime": {
     "end_time": "2024-02-26T22:58:00.810719834Z",
     "start_time": "2024-02-26T22:58:00.805785609Z"
    }
   },
   "outputs": [],
   "source": [
    "nexus_demo.install_nexus()"
   ]
  },
  {
   "cell_type": "markdown",
   "metadata": {},
   "source": [
    "## Create Nexus API\n",
    "\n",
    "Nexus indexes Chicago Open Data offline and stores the data in `demo.db`."
   ]
  },
  {
   "cell_type": "code",
   "execution_count": null,
   "metadata": {},
   "outputs": [],
   "source": [
    "conn_str = f'data/demo.db'\n",
    "nexus_api = API(conn_str)"
   ]
  },
  {
   "cell_type": "markdown",
   "metadata": {},
   "source": [
    "# Persona 1: Enrich the asthma dataset with additional variables\n",
    "\n",
    "Bob, a researcher from a medical school, has a dataset with asthma attack incidences in hospitals across various zip codes in Chicago.\n",
    "\n",
    "| Zip5\\*   | enc_asthma\\*\\* | encAsthmaExac\\*\\*\\* | AttackPer\\*\\*\\*\\*  |\n",
    "|--------|------------|---------------|-----------|\n",
    "| 60604.0| 10.0       | 1.0           | 0.1       |\n",
    "| 60605.0| 47.0       | 7.0           | 0.15      |\n",
    "| 60606.0| 33.0       | 13.0          | 0.39      |\n",
    "| 60607.0| 12.0       | 3.0           | 0.25      |\n",
    "| ...| ...       | ...          | ...      |\n",
    "\n",
    "\\* zipcode\n",
    "\n",
    "\\*\\* Count of asthma visits 2009-2019, denominator.\n",
    "\n",
    "\\*\\*\\* Count of visits for asthma attacks (a.k.a., exacerbations) 2009-2019, numerator.\n",
    "\n",
    "\\*\\*\\*\\* Asthma attacks as a percentage of all asthma visits.\n",
    "\n",
    "Bob wants to find variables correlated with asthma attacks from Chicago Open Data. \n",
    "\n",
    "<!-- He finds that [Chicago Open Data](https://data.cityofchicago.org/) has a wealth of datasets on diverse societal aspects such as education, business, and crime in Chicago. He believes there are some variables in Chicago Open Data that are useful for his research. Thus, he adds Chicago Open Data as a data source in Nexus. -->"
   ]
  },
  {
   "cell_type": "markdown",
   "metadata": {},
   "source": [
    "## Browse Data Assets"
   ]
  },
  {
   "cell_type": "code",
   "execution_count": null,
   "metadata": {},
   "outputs": [],
   "source": [
    "catalog = nexus_api.get_catalog()\n",
    "dtale.show(catalog)"
   ]
  },
  {
   "cell_type": "markdown",
   "metadata": {},
   "source": [
    "You can use Nexus to look at a dataset in the catalog given the dataset id."
   ]
  },
  {
   "cell_type": "code",
   "execution_count": null,
   "metadata": {},
   "outputs": [],
   "source": [
    "dataset_id = 'ijzp-q8t2_location_6'\n",
    "df = nexus_api.get_agg_dataset(dataset_id)\n",
    "dtale.show(df)"
   ]
  },
  {
   "cell_type": "markdown",
   "metadata": {},
   "source": [
    "## Find correlations from an input table"
   ]
  },
  {
   "cell_type": "code",
   "execution_count": null,
   "metadata": {},
   "outputs": [],
   "source": [
    "dataset = 'asthma'\n",
    "temporal_granularity, spatial_granularity = None, SPATIAL_GRANU.ZIPCODE\n",
    "overlap_threshold = 5\n",
    "correlation_threshold = 0.5\n",
    "correlations = nexus_api.find_correlations_from(dataset, temporal_granularity, spatial_granularity, \n",
    "                                      overlap_threshold, correlation_threshold, \n",
    "                                      correlation_type=\"pearson\")\n",
    "dtale.show(correlations)"
   ]
  },
  {
   "cell_type": "markdown",
   "metadata": {},
   "source": [
    "## Display the detailed profile of a correlation"
   ]
  },
  {
   "cell_type": "code",
   "execution_count": null,
   "metadata": {},
   "outputs": [],
   "source": [
    "correlation_idx = 9\n",
    "nexus_api.show_correlation_profile(correlations, correlation_idx)"
   ]
  },
  {
   "cell_type": "markdown",
   "metadata": {},
   "source": [
    "## Control for variables"
   ]
  },
  {
   "cell_type": "code",
   "execution_count": null,
   "metadata": {},
   "outputs": [],
   "source": [
    "control_variables = [Variable('chicago_income_by_zipcode_zipcode_6', 'avg_income_household_median')]\n",
    "df_control = nexus_api.find_correlations_from(dataset, temporal_granularity, spatial_granularity, \n",
    "                                              overlap_threshold, correlation_threshold, \n",
    "                                              correlation_type=\"pearson\", control_variables=control_variables)\n",
    "dtale.show(df_control)"
   ]
  },
  {
   "cell_type": "markdown",
   "metadata": {},
   "source": [
    "## Assemble a dataset from multiple variables"
   ]
  },
  {
   "cell_type": "code",
   "execution_count": null,
   "metadata": {},
   "outputs": [],
   "source": [
    "row_idx = 10\n",
    "aligned, prov = nexus_api.get_joined_data_from_row(df_control.loc[row_idx])\n",
    "dtale.show(aligned)"
   ]
  },
  {
   "cell_type": "markdown",
   "metadata": {},
   "source": [
    "Nexus also offers `join_and_project` API that can assemble a dataset from any set of given variables."
   ]
  },
  {
   "cell_type": "code",
   "execution_count": null,
   "metadata": {},
   "outputs": [],
   "source": [
    "variables = [Variable('divg-mhqk_location_6', 'count'), Variable('4u6w-irs9_location_6', 'avg_square_feet')]\n",
    "df, prov = nexus_api.join_and_project(variables)\n",
    "dtale.show(df)"
   ]
  },
  {
   "cell_type": "markdown",
   "metadata": {},
   "source": [
    "Nexus provides the data provenance information for all data assembly APIs."
   ]
  },
  {
   "cell_type": "code",
   "execution_count": null,
   "metadata": {},
   "outputs": [],
   "source": [
    "print(prov)"
   ]
  },
  {
   "cell_type": "markdown",
   "metadata": {},
   "source": [
    "# Persona 2: Data-Driven Hypothesis Generation."
   ]
  },
  {
   "cell_type": "code",
   "execution_count": null,
   "metadata": {},
   "outputs": [],
   "source": [
    "chicago_correlations = nexus_demo.find_all_correlations(TEMPORAL_GRANU.MONTH, SPATIAL_GRANU.TRACT)\n",
    "print(f\"Nexus found {len(chicago_correlations)} correlations in total\")"
   ]
  },
  {
   "cell_type": "markdown",
   "metadata": {},
   "source": [
    "## Correlation Distillation Using Nexus Variable Clusters"
   ]
  },
  {
   "cell_type": "code",
   "execution_count": null,
   "metadata": {},
   "outputs": [],
   "source": [
    "variable_clusters = nexus_demo.get_correlation_communities(chicago_correlations)\n",
    "print(f\"Nexus extracts {len(variable_clusters.comps)} variable clusters out of {len(chicago_correlations)} correlations\")"
   ]
  },
  {
   "cell_type": "markdown",
   "metadata": {},
   "source": [
    "### Examine Correlation Communities"
   ]
  },
  {
   "cell_type": "code",
   "execution_count": null,
   "metadata": {},
   "outputs": [],
   "source": [
    "show_communities(variable_clusters, show_corr_in_same_tbl=False)"
   ]
  },
  {
   "cell_type": "code",
   "execution_count": null,
   "metadata": {},
   "outputs": [],
   "source": []
  }
 ],
 "metadata": {
  "kernelspec": {
   "display_name": "nexus",
   "language": "python",
   "name": "nexus"
  },
  "language_info": {
   "codemirror_mode": {
    "name": "ipython",
    "version": 3
   },
   "file_extension": ".py",
   "mimetype": "text/x-python",
   "name": "python",
   "nbconvert_exporter": "python",
   "pygments_lexer": "ipython3",
   "version": "3.11.5"
  }
 },
 "nbformat": 4,
 "nbformat_minor": 4
}
